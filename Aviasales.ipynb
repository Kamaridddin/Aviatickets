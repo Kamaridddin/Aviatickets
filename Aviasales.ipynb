{
 "cells": [
  {
   "cell_type": "code",
   "execution_count": 1,
   "id": "505137ba",
   "metadata": {},
   "outputs": [],
   "source": [
    "import numpy as np\n",
    "import pandas as pd\n",
    "import matplotlib.pyplot as plt\n",
    "import seaborn as sns\n",
    "\n",
    "sns.set()"
   ]
  },
  {
   "cell_type": "code",
   "execution_count": 2,
   "id": "f11af567",
   "metadata": {},
   "outputs": [
    {
     "data": {
      "text/html": [
       "<div>\n",
       "<style scoped>\n",
       "    .dataframe tbody tr th:only-of-type {\n",
       "        vertical-align: middle;\n",
       "    }\n",
       "\n",
       "    .dataframe tbody tr th {\n",
       "        vertical-align: top;\n",
       "    }\n",
       "\n",
       "    .dataframe thead th {\n",
       "        text-align: right;\n",
       "    }\n",
       "</style>\n",
       "<table border=\"1\" class=\"dataframe\">\n",
       "  <thead>\n",
       "    <tr style=\"text-align: right;\">\n",
       "      <th></th>\n",
       "      <th>id</th>\n",
       "      <th>airline</th>\n",
       "      <th>flight</th>\n",
       "      <th>source_city</th>\n",
       "      <th>departure_time</th>\n",
       "      <th>stops</th>\n",
       "      <th>arrival_time</th>\n",
       "      <th>destination_city</th>\n",
       "      <th>class</th>\n",
       "      <th>duration</th>\n",
       "      <th>days_left</th>\n",
       "      <th>price</th>\n",
       "    </tr>\n",
       "  </thead>\n",
       "  <tbody>\n",
       "    <tr>\n",
       "      <th>0</th>\n",
       "      <td>1</td>\n",
       "      <td>Vistara</td>\n",
       "      <td>UK-810</td>\n",
       "      <td>Bangalore</td>\n",
       "      <td>Early_Morning</td>\n",
       "      <td>one</td>\n",
       "      <td>Night</td>\n",
       "      <td>Mumbai</td>\n",
       "      <td>Economy</td>\n",
       "      <td>14.25</td>\n",
       "      <td>21</td>\n",
       "      <td>7212</td>\n",
       "    </tr>\n",
       "    <tr>\n",
       "      <th>1</th>\n",
       "      <td>2</td>\n",
       "      <td>SpiceJet</td>\n",
       "      <td>SG-5094</td>\n",
       "      <td>Hyderabad</td>\n",
       "      <td>Evening</td>\n",
       "      <td>zero</td>\n",
       "      <td>Night</td>\n",
       "      <td>Kolkata</td>\n",
       "      <td>Economy</td>\n",
       "      <td>1.75</td>\n",
       "      <td>7</td>\n",
       "      <td>5292</td>\n",
       "    </tr>\n",
       "    <tr>\n",
       "      <th>2</th>\n",
       "      <td>3</td>\n",
       "      <td>Vistara</td>\n",
       "      <td>UK-846</td>\n",
       "      <td>Bangalore</td>\n",
       "      <td>Morning</td>\n",
       "      <td>one</td>\n",
       "      <td>Evening</td>\n",
       "      <td>Delhi</td>\n",
       "      <td>Business</td>\n",
       "      <td>9.58</td>\n",
       "      <td>5</td>\n",
       "      <td>60553</td>\n",
       "    </tr>\n",
       "    <tr>\n",
       "      <th>3</th>\n",
       "      <td>4</td>\n",
       "      <td>Vistara</td>\n",
       "      <td>UK-706</td>\n",
       "      <td>Kolkata</td>\n",
       "      <td>Morning</td>\n",
       "      <td>one</td>\n",
       "      <td>Evening</td>\n",
       "      <td>Hyderabad</td>\n",
       "      <td>Economy</td>\n",
       "      <td>6.75</td>\n",
       "      <td>28</td>\n",
       "      <td>5760</td>\n",
       "    </tr>\n",
       "    <tr>\n",
       "      <th>4</th>\n",
       "      <td>5</td>\n",
       "      <td>Indigo</td>\n",
       "      <td>6E-5394</td>\n",
       "      <td>Chennai</td>\n",
       "      <td>Early_Morning</td>\n",
       "      <td>zero</td>\n",
       "      <td>Morning</td>\n",
       "      <td>Mumbai</td>\n",
       "      <td>Economy</td>\n",
       "      <td>2.00</td>\n",
       "      <td>4</td>\n",
       "      <td>10712</td>\n",
       "    </tr>\n",
       "    <tr>\n",
       "      <th>5</th>\n",
       "      <td>6</td>\n",
       "      <td>Air_India</td>\n",
       "      <td>AI-636</td>\n",
       "      <td>Delhi</td>\n",
       "      <td>Afternoon</td>\n",
       "      <td>one</td>\n",
       "      <td>Morning</td>\n",
       "      <td>Chennai</td>\n",
       "      <td>Business</td>\n",
       "      <td>20.42</td>\n",
       "      <td>5</td>\n",
       "      <td>45257</td>\n",
       "    </tr>\n",
       "    <tr>\n",
       "      <th>6</th>\n",
       "      <td>7</td>\n",
       "      <td>Vistara</td>\n",
       "      <td>UK-834</td>\n",
       "      <td>Chennai</td>\n",
       "      <td>Evening</td>\n",
       "      <td>one</td>\n",
       "      <td>Morning</td>\n",
       "      <td>Mumbai</td>\n",
       "      <td>Economy</td>\n",
       "      <td>18.42</td>\n",
       "      <td>20</td>\n",
       "      <td>5054</td>\n",
       "    </tr>\n",
       "    <tr>\n",
       "      <th>7</th>\n",
       "      <td>8</td>\n",
       "      <td>Air_India</td>\n",
       "      <td>AI-505</td>\n",
       "      <td>Bangalore</td>\n",
       "      <td>Morning</td>\n",
       "      <td>zero</td>\n",
       "      <td>Afternoon</td>\n",
       "      <td>Delhi</td>\n",
       "      <td>Business</td>\n",
       "      <td>2.58</td>\n",
       "      <td>30</td>\n",
       "      <td>32923</td>\n",
       "    </tr>\n",
       "    <tr>\n",
       "      <th>8</th>\n",
       "      <td>9</td>\n",
       "      <td>Vistara</td>\n",
       "      <td>UK-810</td>\n",
       "      <td>Bangalore</td>\n",
       "      <td>Early_Morning</td>\n",
       "      <td>one</td>\n",
       "      <td>Night</td>\n",
       "      <td>Hyderabad</td>\n",
       "      <td>Economy</td>\n",
       "      <td>15.92</td>\n",
       "      <td>12</td>\n",
       "      <td>11383</td>\n",
       "    </tr>\n",
       "    <tr>\n",
       "      <th>9</th>\n",
       "      <td>10</td>\n",
       "      <td>Air_India</td>\n",
       "      <td>AI-538</td>\n",
       "      <td>Chennai</td>\n",
       "      <td>Night</td>\n",
       "      <td>one</td>\n",
       "      <td>Afternoon</td>\n",
       "      <td>Mumbai</td>\n",
       "      <td>Economy</td>\n",
       "      <td>16.50</td>\n",
       "      <td>18</td>\n",
       "      <td>4357</td>\n",
       "    </tr>\n",
       "  </tbody>\n",
       "</table>\n",
       "</div>"
      ],
      "text/plain": [
       "   id    airline   flight source_city departure_time stops arrival_time  \\\n",
       "0   1    Vistara   UK-810   Bangalore  Early_Morning   one        Night   \n",
       "1   2   SpiceJet  SG-5094   Hyderabad        Evening  zero        Night   \n",
       "2   3    Vistara   UK-846   Bangalore        Morning   one      Evening   \n",
       "3   4    Vistara   UK-706     Kolkata        Morning   one      Evening   \n",
       "4   5     Indigo  6E-5394     Chennai  Early_Morning  zero      Morning   \n",
       "5   6  Air_India   AI-636       Delhi      Afternoon   one      Morning   \n",
       "6   7    Vistara   UK-834     Chennai        Evening   one      Morning   \n",
       "7   8  Air_India   AI-505   Bangalore        Morning  zero    Afternoon   \n",
       "8   9    Vistara   UK-810   Bangalore  Early_Morning   one        Night   \n",
       "9  10  Air_India   AI-538     Chennai          Night   one    Afternoon   \n",
       "\n",
       "  destination_city     class  duration  days_left  price  \n",
       "0           Mumbai   Economy     14.25         21   7212  \n",
       "1          Kolkata   Economy      1.75          7   5292  \n",
       "2            Delhi  Business      9.58          5  60553  \n",
       "3        Hyderabad   Economy      6.75         28   5760  \n",
       "4           Mumbai   Economy      2.00          4  10712  \n",
       "5          Chennai  Business     20.42          5  45257  \n",
       "6           Mumbai   Economy     18.42         20   5054  \n",
       "7            Delhi  Business      2.58         30  32923  \n",
       "8        Hyderabad   Economy     15.92         12  11383  \n",
       "9           Mumbai   Economy     16.50         18   4357  "
      ]
     },
     "execution_count": 2,
     "metadata": {},
     "output_type": "execute_result"
    }
   ],
   "source": [
    "train_data = pd.read_csv(r\"C:\\Users\\User\\Downloads\\train_data.csv\")\n",
    "train_data.head(10)"
   ]
  },
  {
   "cell_type": "code",
   "execution_count": 3,
   "id": "1fea39e7",
   "metadata": {},
   "outputs": [
    {
     "name": "stdout",
     "output_type": "stream",
     "text": [
      "<class 'pandas.core.frame.DataFrame'>\n",
      "RangeIndex: 20000 entries, 0 to 19999\n",
      "Data columns (total 12 columns):\n",
      " #   Column            Non-Null Count  Dtype  \n",
      "---  ------            --------------  -----  \n",
      " 0   id                20000 non-null  int64  \n",
      " 1   airline           20000 non-null  object \n",
      " 2   flight            20000 non-null  object \n",
      " 3   source_city       20000 non-null  object \n",
      " 4   departure_time    20000 non-null  object \n",
      " 5   stops             20000 non-null  object \n",
      " 6   arrival_time      20000 non-null  object \n",
      " 7   destination_city  20000 non-null  object \n",
      " 8   class             20000 non-null  object \n",
      " 9   duration          20000 non-null  float64\n",
      " 10  days_left         20000 non-null  int64  \n",
      " 11  price             20000 non-null  int64  \n",
      "dtypes: float64(1), int64(3), object(8)\n",
      "memory usage: 1.8+ MB\n"
     ]
    }
   ],
   "source": [
    "train_data.info()"
   ]
  },
  {
   "cell_type": "code",
   "execution_count": 4,
   "id": "e8fd40d8",
   "metadata": {},
   "outputs": [
    {
     "data": {
      "text/plain": [
       "id                    int64\n",
       "airline              object\n",
       "flight               object\n",
       "source_city          object\n",
       "departure_time       object\n",
       "stops                object\n",
       "arrival_time         object\n",
       "destination_city     object\n",
       "class                object\n",
       "duration            float64\n",
       "days_left             int64\n",
       "price                 int64\n",
       "dtype: object"
      ]
     },
     "execution_count": 4,
     "metadata": {},
     "output_type": "execute_result"
    }
   ],
   "source": [
    "train_data.dtypes"
   ]
  },
  {
   "cell_type": "code",
   "execution_count": 5,
   "id": "e9f80c75",
   "metadata": {},
   "outputs": [
    {
     "data": {
      "text/plain": [
       "Index(['id', 'airline', 'flight', 'source_city', 'departure_time', 'stops',\n",
       "       'arrival_time', 'destination_city', 'class', 'duration', 'days_left',\n",
       "       'price'],\n",
       "      dtype='object')"
      ]
     },
     "execution_count": 5,
     "metadata": {},
     "output_type": "execute_result"
    }
   ],
   "source": [
    "train_data.columns"
   ]
  },
  {
   "cell_type": "code",
   "execution_count": 6,
   "id": "d500957e",
   "metadata": {},
   "outputs": [
    {
     "data": {
      "text/plain": [
       "2.17     267\n",
       "2.25     245\n",
       "2.75     202\n",
       "2.08     185\n",
       "12.00    163\n",
       "        ... \n",
       "32.67      1\n",
       "35.58      1\n",
       "31.92      1\n",
       "33.33      1\n",
       "38.33      1\n",
       "Name: duration, Length: 404, dtype: int64"
      ]
     },
     "execution_count": 6,
     "metadata": {},
     "output_type": "execute_result"
    }
   ],
   "source": [
    "train_data[\"duration\"].value_counts()"
   ]
  },
  {
   "cell_type": "code",
   "execution_count": 7,
   "id": "c5f6d3a9",
   "metadata": {},
   "outputs": [],
   "source": [
    "train_data.dropna(inplace = True)"
   ]
  },
  {
   "cell_type": "code",
   "execution_count": 8,
   "id": "ceac86f7",
   "metadata": {},
   "outputs": [
    {
     "data": {
      "text/plain": [
       "id                  0\n",
       "airline             0\n",
       "flight              0\n",
       "source_city         0\n",
       "departure_time      0\n",
       "stops               0\n",
       "arrival_time        0\n",
       "destination_city    0\n",
       "class               0\n",
       "duration            0\n",
       "days_left           0\n",
       "price               0\n",
       "dtype: int64"
      ]
     },
     "execution_count": 8,
     "metadata": {},
     "output_type": "execute_result"
    }
   ],
   "source": [
    "train_data.isnull().sum()"
   ]
  },
  {
   "cell_type": "code",
   "execution_count": 9,
   "id": "74b8c9f3",
   "metadata": {},
   "outputs": [
    {
     "data": {
      "text/plain": [
       "Vistara      8535\n",
       "Air_India    5371\n",
       "Indigo       2924\n",
       "GO_FIRST     1508\n",
       "AirAsia      1056\n",
       "SpiceJet      606\n",
       "Name: airline, dtype: int64"
      ]
     },
     "execution_count": 9,
     "metadata": {},
     "output_type": "execute_result"
    }
   ],
   "source": [
    "train_data['airline'].value_counts()"
   ]
  },
  {
   "cell_type": "code",
   "execution_count": 12,
   "id": "ec115046",
   "metadata": {},
   "outputs": [
    {
     "data": {
      "image/png": "[encoded data removed]",
      "text/plain": [
       "<Figure size 1296x432 with 1 Axes>"
      ]
     },
     "metadata": {},
     "output_type": "display_data"
    }
   ],
   "source": [
    "sns.catplot(y = \"price\", x = \"airline\", data = train_data.sort_values(\"price\", ascending = False), kind=\"strip\", height = 6, aspect = 3)\n",
    "plt.show()"
   ]
  },
  {
   "cell_type": "code",
   "execution_count": 14,
   "id": "7dc9c781",
   "metadata": {},
   "outputs": [
    {
     "data": {
      "text/html": [
       "<div>\n",
       "<style scoped>\n",
       "    .dataframe tbody tr th:only-of-type {\n",
       "        vertical-align: middle;\n",
       "    }\n",
       "\n",
       "    .dataframe tbody tr th {\n",
       "        vertical-align: top;\n",
       "    }\n",
       "\n",
       "    .dataframe thead th {\n",
       "        text-align: right;\n",
       "    }\n",
       "</style>\n",
       "<table border=\"1\" class=\"dataframe\">\n",
       "  <thead>\n",
       "    <tr style=\"text-align: right;\">\n",
       "      <th></th>\n",
       "      <th>airline_Air_India</th>\n",
       "      <th>airline_GO_FIRST</th>\n",
       "      <th>airline_Indigo</th>\n",
       "      <th>airline_SpiceJet</th>\n",
       "      <th>airline_Vistara</th>\n",
       "    </tr>\n",
       "  </thead>\n",
       "  <tbody>\n",
       "    <tr>\n",
       "      <th>0</th>\n",
       "      <td>0</td>\n",
       "      <td>0</td>\n",
       "      <td>0</td>\n",
       "      <td>0</td>\n",
       "      <td>1</td>\n",
       "    </tr>\n",
       "    <tr>\n",
       "      <th>1</th>\n",
       "      <td>0</td>\n",
       "      <td>0</td>\n",
       "      <td>0</td>\n",
       "      <td>1</td>\n",
       "      <td>0</td>\n",
       "    </tr>\n",
       "    <tr>\n",
       "      <th>2</th>\n",
       "      <td>0</td>\n",
       "      <td>0</td>\n",
       "      <td>0</td>\n",
       "      <td>0</td>\n",
       "      <td>1</td>\n",
       "    </tr>\n",
       "    <tr>\n",
       "      <th>3</th>\n",
       "      <td>0</td>\n",
       "      <td>0</td>\n",
       "      <td>0</td>\n",
       "      <td>0</td>\n",
       "      <td>1</td>\n",
       "    </tr>\n",
       "    <tr>\n",
       "      <th>4</th>\n",
       "      <td>0</td>\n",
       "      <td>0</td>\n",
       "      <td>1</td>\n",
       "      <td>0</td>\n",
       "      <td>0</td>\n",
       "    </tr>\n",
       "  </tbody>\n",
       "</table>\n",
       "</div>"
      ],
      "text/plain": [
       "   airline_Air_India  airline_GO_FIRST  airline_Indigo  airline_SpiceJet  \\\n",
       "0                  0                 0               0                 0   \n",
       "1                  0                 0               0                 1   \n",
       "2                  0                 0               0                 0   \n",
       "3                  0                 0               0                 0   \n",
       "4                  0                 0               1                 0   \n",
       "\n",
       "   airline_Vistara  \n",
       "0                1  \n",
       "1                0  \n",
       "2                1  \n",
       "3                1  \n",
       "4                0  "
      ]
     },
     "execution_count": 14,
     "metadata": {},
     "output_type": "execute_result"
    }
   ],
   "source": [
    "Airline = train_data[[\"airline\"]]\n",
    "\n",
    "Airline = pd.get_dummies(Airline, drop_first= True)\n",
    "\n",
    "Airline.head()"
   ]
  },
  {
   "cell_type": "code",
   "execution_count": 15,
   "id": "92f5f6a9",
   "metadata": {},
   "outputs": [
    {
     "data": {
      "text/plain": [
       "Mumbai       4068\n",
       "Delhi        4022\n",
       "Bangalore    3486\n",
       "Kolkata      3092\n",
       "Hyderabad    2748\n",
       "Chennai      2584\n",
       "Name: source_city, dtype: int64"
      ]
     },
     "execution_count": 15,
     "metadata": {},
     "output_type": "execute_result"
    }
   ],
   "source": [
    "train_data['source_city'].value_counts()"
   ]
  },
  {
   "cell_type": "code",
   "execution_count": 16,
   "id": "bb726974",
   "metadata": {},
   "outputs": [
    {
     "data": {
      "image/png": "[encoded data removed]",
      "text/plain": [
       "<Figure size 864x288 with 1 Axes>"
      ]
     },
     "metadata": {},
     "output_type": "display_data"
    }
   ],
   "source": [
    "sns.catplot(y = \"price\", x = \"source_city\", data = train_data.sort_values(\"price\", ascending = False), kind=\"strip\", height = 4, aspect = 3)\n",
    "plt.show()"
   ]
  },
  {
   "cell_type": "code",
   "execution_count": 17,
   "id": "2b9160cb",
   "metadata": {},
   "outputs": [
    {
     "data": {
      "text/html": [
       "<div>\n",
       "<style scoped>\n",
       "    .dataframe tbody tr th:only-of-type {\n",
       "        vertical-align: middle;\n",
       "    }\n",
       "\n",
       "    .dataframe tbody tr th {\n",
       "        vertical-align: top;\n",
       "    }\n",
       "\n",
       "    .dataframe thead th {\n",
       "        text-align: right;\n",
       "    }\n",
       "</style>\n",
       "<table border=\"1\" class=\"dataframe\">\n",
       "  <thead>\n",
       "    <tr style=\"text-align: right;\">\n",
       "      <th></th>\n",
       "      <th>source_city_Chennai</th>\n",
       "      <th>source_city_Delhi</th>\n",
       "      <th>source_city_Hyderabad</th>\n",
       "      <th>source_city_Kolkata</th>\n",
       "      <th>source_city_Mumbai</th>\n",
       "    </tr>\n",
       "  </thead>\n",
       "  <tbody>\n",
       "    <tr>\n",
       "      <th>0</th>\n",
       "      <td>0</td>\n",
       "      <td>0</td>\n",
       "      <td>0</td>\n",
       "      <td>0</td>\n",
       "      <td>0</td>\n",
       "    </tr>\n",
       "    <tr>\n",
       "      <th>1</th>\n",
       "      <td>0</td>\n",
       "      <td>0</td>\n",
       "      <td>1</td>\n",
       "      <td>0</td>\n",
       "      <td>0</td>\n",
       "    </tr>\n",
       "    <tr>\n",
       "      <th>2</th>\n",
       "      <td>0</td>\n",
       "      <td>0</td>\n",
       "      <td>0</td>\n",
       "      <td>0</td>\n",
       "      <td>0</td>\n",
       "    </tr>\n",
       "    <tr>\n",
       "      <th>3</th>\n",
       "      <td>0</td>\n",
       "      <td>0</td>\n",
       "      <td>0</td>\n",
       "      <td>1</td>\n",
       "      <td>0</td>\n",
       "    </tr>\n",
       "    <tr>\n",
       "      <th>4</th>\n",
       "      <td>1</td>\n",
       "      <td>0</td>\n",
       "      <td>0</td>\n",
       "      <td>0</td>\n",
       "      <td>0</td>\n",
       "    </tr>\n",
       "  </tbody>\n",
       "</table>\n",
       "</div>"
      ],
      "text/plain": [
       "   source_city_Chennai  source_city_Delhi  source_city_Hyderabad  \\\n",
       "0                    0                  0                      0   \n",
       "1                    0                  0                      1   \n",
       "2                    0                  0                      0   \n",
       "3                    0                  0                      0   \n",
       "4                    1                  0                      0   \n",
       "\n",
       "   source_city_Kolkata  source_city_Mumbai  \n",
       "0                    0                   0  \n",
       "1                    0                   0  \n",
       "2                    0                   0  \n",
       "3                    1                   0  \n",
       "4                    0                   0  "
      ]
     },
     "execution_count": 17,
     "metadata": {},
     "output_type": "execute_result"
    }
   ],
   "source": [
    "Source = train_data[[\"source_city\"]]\n",
    "\n",
    "Source = pd.get_dummies(Source, drop_first= True)\n",
    "\n",
    "Source.head()"
   ]
  },
  {
   "cell_type": "code",
   "execution_count": 18,
   "id": "e04807c8",
   "metadata": {},
   "outputs": [
    {
     "data": {
      "text/plain": [
       "Mumbai       3918\n",
       "Delhi        3825\n",
       "Bangalore    3425\n",
       "Kolkata      3323\n",
       "Hyderabad    2814\n",
       "Chennai      2695\n",
       "Name: destination_city, dtype: int64"
      ]
     },
     "execution_count": 18,
     "metadata": {},
     "output_type": "execute_result"
    }
   ],
   "source": [
    "train_data['destination_city'].value_counts()"
   ]
  },
  {
   "cell_type": "code",
   "execution_count": 19,
   "id": "71c536bc",
   "metadata": {},
   "outputs": [
    {
     "data": {
      "text/html": [
       "<div>\n",
       "<style scoped>\n",
       "    .dataframe tbody tr th:only-of-type {\n",
       "        vertical-align: middle;\n",
       "    }\n",
       "\n",
       "    .dataframe tbody tr th {\n",
       "        vertical-align: top;\n",
       "    }\n",
       "\n",
       "    .dataframe thead th {\n",
       "        text-align: right;\n",
       "    }\n",
       "</style>\n",
       "<table border=\"1\" class=\"dataframe\">\n",
       "  <thead>\n",
       "    <tr style=\"text-align: right;\">\n",
       "      <th></th>\n",
       "      <th>destination_city_Chennai</th>\n",
       "      <th>destination_city_Delhi</th>\n",
       "      <th>destination_city_Hyderabad</th>\n",
       "      <th>destination_city_Kolkata</th>\n",
       "      <th>destination_city_Mumbai</th>\n",
       "    </tr>\n",
       "  </thead>\n",
       "  <tbody>\n",
       "    <tr>\n",
       "      <th>0</th>\n",
       "      <td>0</td>\n",
       "      <td>0</td>\n",
       "      <td>0</td>\n",
       "      <td>0</td>\n",
       "      <td>1</td>\n",
       "    </tr>\n",
       "    <tr>\n",
       "      <th>1</th>\n",
       "      <td>0</td>\n",
       "      <td>0</td>\n",
       "      <td>0</td>\n",
       "      <td>1</td>\n",
       "      <td>0</td>\n",
       "    </tr>\n",
       "    <tr>\n",
       "      <th>2</th>\n",
       "      <td>0</td>\n",
       "      <td>1</td>\n",
       "      <td>0</td>\n",
       "      <td>0</td>\n",
       "      <td>0</td>\n",
       "    </tr>\n",
       "    <tr>\n",
       "      <th>3</th>\n",
       "      <td>0</td>\n",
       "      <td>0</td>\n",
       "      <td>1</td>\n",
       "      <td>0</td>\n",
       "      <td>0</td>\n",
       "    </tr>\n",
       "    <tr>\n",
       "      <th>4</th>\n",
       "      <td>0</td>\n",
       "      <td>0</td>\n",
       "      <td>0</td>\n",
       "      <td>0</td>\n",
       "      <td>1</td>\n",
       "    </tr>\n",
       "  </tbody>\n",
       "</table>\n",
       "</div>"
      ],
      "text/plain": [
       "   destination_city_Chennai  destination_city_Delhi  \\\n",
       "0                         0                       0   \n",
       "1                         0                       0   \n",
       "2                         0                       1   \n",
       "3                         0                       0   \n",
       "4                         0                       0   \n",
       "\n",
       "   destination_city_Hyderabad  destination_city_Kolkata  \\\n",
       "0                           0                         0   \n",
       "1                           0                         1   \n",
       "2                           0                         0   \n",
       "3                           1                         0   \n",
       "4                           0                         0   \n",
       "\n",
       "   destination_city_Mumbai  \n",
       "0                        1  \n",
       "1                        0  \n",
       "2                        0  \n",
       "3                        0  \n",
       "4                        1  "
      ]
     },
     "execution_count": 19,
     "metadata": {},
     "output_type": "execute_result"
    }
   ],
   "source": [
    "Destination = train_data[[\"destination_city\"]]\n",
    "\n",
    "Destination = pd.get_dummies(Destination, drop_first = True)\n",
    "\n",
    "Destination.head()"
   ]
  },
  {
   "cell_type": "code",
   "execution_count": 20,
   "id": "b1c62f71",
   "metadata": {},
   "outputs": [
    {
     "data": {
      "text/plain": [
       "one            16666\n",
       "zero            2440\n",
       "two_or_more      894\n",
       "Name: stops, dtype: int64"
      ]
     },
     "execution_count": 20,
     "metadata": {},
     "output_type": "execute_result"
    }
   ],
   "source": [
    "train_data[\"stops\"].value_counts()"
   ]
  },
  {
   "cell_type": "code",
   "execution_count": 21,
   "id": "0f9e66a4",
   "metadata": {},
   "outputs": [],
   "source": [
    "train_data.replace({\"non-stop\": 0, \"1 stop\": 1, \"2 stops\": 2, \"3 stops\": 3, \"4 stops\": 4}, inplace = True)"
   ]
  },
  {
   "cell_type": "code",
   "execution_count": 22,
   "id": "8a638c2b",
   "metadata": {},
   "outputs": [
    {
     "data": {
      "text/html": [
       "<div>\n",
       "<style scoped>\n",
       "    .dataframe tbody tr th:only-of-type {\n",
       "        vertical-align: middle;\n",
       "    }\n",
       "\n",
       "    .dataframe tbody tr th {\n",
       "        vertical-align: top;\n",
       "    }\n",
       "\n",
       "    .dataframe thead th {\n",
       "        text-align: right;\n",
       "    }\n",
       "</style>\n",
       "<table border=\"1\" class=\"dataframe\">\n",
       "  <thead>\n",
       "    <tr style=\"text-align: right;\">\n",
       "      <th></th>\n",
       "      <th>id</th>\n",
       "      <th>airline</th>\n",
       "      <th>flight</th>\n",
       "      <th>source_city</th>\n",
       "      <th>departure_time</th>\n",
       "      <th>stops</th>\n",
       "      <th>arrival_time</th>\n",
       "      <th>destination_city</th>\n",
       "      <th>class</th>\n",
       "      <th>duration</th>\n",
       "      <th>days_left</th>\n",
       "      <th>price</th>\n",
       "    </tr>\n",
       "  </thead>\n",
       "  <tbody>\n",
       "    <tr>\n",
       "      <th>0</th>\n",
       "      <td>1</td>\n",
       "      <td>Vistara</td>\n",
       "      <td>UK-810</td>\n",
       "      <td>Bangalore</td>\n",
       "      <td>Early_Morning</td>\n",
       "      <td>one</td>\n",
       "      <td>Night</td>\n",
       "      <td>Mumbai</td>\n",
       "      <td>Economy</td>\n",
       "      <td>14.25</td>\n",
       "      <td>21</td>\n",
       "      <td>7212</td>\n",
       "    </tr>\n",
       "    <tr>\n",
       "      <th>1</th>\n",
       "      <td>2</td>\n",
       "      <td>SpiceJet</td>\n",
       "      <td>SG-5094</td>\n",
       "      <td>Hyderabad</td>\n",
       "      <td>Evening</td>\n",
       "      <td>zero</td>\n",
       "      <td>Night</td>\n",
       "      <td>Kolkata</td>\n",
       "      <td>Economy</td>\n",
       "      <td>1.75</td>\n",
       "      <td>7</td>\n",
       "      <td>5292</td>\n",
       "    </tr>\n",
       "    <tr>\n",
       "      <th>2</th>\n",
       "      <td>3</td>\n",
       "      <td>Vistara</td>\n",
       "      <td>UK-846</td>\n",
       "      <td>Bangalore</td>\n",
       "      <td>Morning</td>\n",
       "      <td>one</td>\n",
       "      <td>Evening</td>\n",
       "      <td>Delhi</td>\n",
       "      <td>Business</td>\n",
       "      <td>9.58</td>\n",
       "      <td>5</td>\n",
       "      <td>60553</td>\n",
       "    </tr>\n",
       "    <tr>\n",
       "      <th>3</th>\n",
       "      <td>4</td>\n",
       "      <td>Vistara</td>\n",
       "      <td>UK-706</td>\n",
       "      <td>Kolkata</td>\n",
       "      <td>Morning</td>\n",
       "      <td>one</td>\n",
       "      <td>Evening</td>\n",
       "      <td>Hyderabad</td>\n",
       "      <td>Economy</td>\n",
       "      <td>6.75</td>\n",
       "      <td>28</td>\n",
       "      <td>5760</td>\n",
       "    </tr>\n",
       "    <tr>\n",
       "      <th>4</th>\n",
       "      <td>5</td>\n",
       "      <td>Indigo</td>\n",
       "      <td>6E-5394</td>\n",
       "      <td>Chennai</td>\n",
       "      <td>Early_Morning</td>\n",
       "      <td>zero</td>\n",
       "      <td>Morning</td>\n",
       "      <td>Mumbai</td>\n",
       "      <td>Economy</td>\n",
       "      <td>2.00</td>\n",
       "      <td>4</td>\n",
       "      <td>10712</td>\n",
       "    </tr>\n",
       "  </tbody>\n",
       "</table>\n",
       "</div>"
      ],
      "text/plain": [
       "   id   airline   flight source_city departure_time stops arrival_time  \\\n",
       "0   1   Vistara   UK-810   Bangalore  Early_Morning   one        Night   \n",
       "1   2  SpiceJet  SG-5094   Hyderabad        Evening  zero        Night   \n",
       "2   3   Vistara   UK-846   Bangalore        Morning   one      Evening   \n",
       "3   4   Vistara   UK-706     Kolkata        Morning   one      Evening   \n",
       "4   5    Indigo  6E-5394     Chennai  Early_Morning  zero      Morning   \n",
       "\n",
       "  destination_city     class  duration  days_left  price  \n",
       "0           Mumbai   Economy     14.25         21   7212  \n",
       "1          Kolkata   Economy      1.75          7   5292  \n",
       "2            Delhi  Business      9.58          5  60553  \n",
       "3        Hyderabad   Economy      6.75         28   5760  \n",
       "4           Mumbai   Economy      2.00          4  10712  "
      ]
     },
     "execution_count": 22,
     "metadata": {},
     "output_type": "execute_result"
    }
   ],
   "source": [
    "train_data.head()"
   ]
  },
  {
   "cell_type": "code",
   "execution_count": 23,
   "id": "15c130d3",
   "metadata": {},
   "outputs": [],
   "source": [
    "data_train = pd.concat([train_data, Airline, Source, Destination], axis = 1)"
   ]
  },
  {
   "cell_type": "code",
   "execution_count": 24,
   "id": "f2c729a8",
   "metadata": {},
   "outputs": [
    {
     "data": {
      "text/html": [
       "<div>\n",
       "<style scoped>\n",
       "    .dataframe tbody tr th:only-of-type {\n",
       "        vertical-align: middle;\n",
       "    }\n",
       "\n",
       "    .dataframe tbody tr th {\n",
       "        vertical-align: top;\n",
       "    }\n",
       "\n",
       "    .dataframe thead th {\n",
       "        text-align: right;\n",
       "    }\n",
       "</style>\n",
       "<table border=\"1\" class=\"dataframe\">\n",
       "  <thead>\n",
       "    <tr style=\"text-align: right;\">\n",
       "      <th></th>\n",
       "      <th>id</th>\n",
       "      <th>airline</th>\n",
       "      <th>flight</th>\n",
       "      <th>source_city</th>\n",
       "      <th>departure_time</th>\n",
       "      <th>stops</th>\n",
       "      <th>arrival_time</th>\n",
       "      <th>destination_city</th>\n",
       "      <th>class</th>\n",
       "      <th>duration</th>\n",
       "      <th>days_left</th>\n",
       "    </tr>\n",
       "  </thead>\n",
       "  <tbody>\n",
       "    <tr>\n",
       "      <th>0</th>\n",
       "      <td>1</td>\n",
       "      <td>Air_India</td>\n",
       "      <td>AI-765</td>\n",
       "      <td>Kolkata</td>\n",
       "      <td>Evening</td>\n",
       "      <td>one</td>\n",
       "      <td>Night</td>\n",
       "      <td>Delhi</td>\n",
       "      <td>Business</td>\n",
       "      <td>28.25</td>\n",
       "      <td>2</td>\n",
       "    </tr>\n",
       "    <tr>\n",
       "      <th>1</th>\n",
       "      <td>2</td>\n",
       "      <td>Vistara</td>\n",
       "      <td>UK-747</td>\n",
       "      <td>Delhi</td>\n",
       "      <td>Early_Morning</td>\n",
       "      <td>one</td>\n",
       "      <td>Night</td>\n",
       "      <td>Mumbai</td>\n",
       "      <td>Business</td>\n",
       "      <td>13.83</td>\n",
       "      <td>34</td>\n",
       "    </tr>\n",
       "    <tr>\n",
       "      <th>2</th>\n",
       "      <td>3</td>\n",
       "      <td>Air_India</td>\n",
       "      <td>AI-570</td>\n",
       "      <td>Mumbai</td>\n",
       "      <td>Early_Morning</td>\n",
       "      <td>zero</td>\n",
       "      <td>Early_Morning</td>\n",
       "      <td>Chennai</td>\n",
       "      <td>Business</td>\n",
       "      <td>2.00</td>\n",
       "      <td>30</td>\n",
       "    </tr>\n",
       "    <tr>\n",
       "      <th>3</th>\n",
       "      <td>4</td>\n",
       "      <td>AirAsia</td>\n",
       "      <td>I5-974</td>\n",
       "      <td>Hyderabad</td>\n",
       "      <td>Night</td>\n",
       "      <td>one</td>\n",
       "      <td>Late_Night</td>\n",
       "      <td>Delhi</td>\n",
       "      <td>Economy</td>\n",
       "      <td>5.17</td>\n",
       "      <td>26</td>\n",
       "    </tr>\n",
       "    <tr>\n",
       "      <th>4</th>\n",
       "      <td>5</td>\n",
       "      <td>Air_India</td>\n",
       "      <td>AI-770</td>\n",
       "      <td>Kolkata</td>\n",
       "      <td>Night</td>\n",
       "      <td>one</td>\n",
       "      <td>Afternoon</td>\n",
       "      <td>Mumbai</td>\n",
       "      <td>Economy</td>\n",
       "      <td>16.33</td>\n",
       "      <td>35</td>\n",
       "    </tr>\n",
       "  </tbody>\n",
       "</table>\n",
       "</div>"
      ],
      "text/plain": [
       "   id    airline  flight source_city departure_time stops   arrival_time  \\\n",
       "0   1  Air_India  AI-765     Kolkata        Evening   one          Night   \n",
       "1   2    Vistara  UK-747       Delhi  Early_Morning   one          Night   \n",
       "2   3  Air_India  AI-570      Mumbai  Early_Morning  zero  Early_Morning   \n",
       "3   4    AirAsia  I5-974   Hyderabad          Night   one     Late_Night   \n",
       "4   5  Air_India  AI-770     Kolkata          Night   one      Afternoon   \n",
       "\n",
       "  destination_city     class  duration  days_left  \n",
       "0            Delhi  Business     28.25          2  \n",
       "1           Mumbai  Business     13.83         34  \n",
       "2          Chennai  Business      2.00         30  \n",
       "3            Delhi   Economy      5.17         26  \n",
       "4           Mumbai   Economy     16.33         35  "
      ]
     },
     "execution_count": 24,
     "metadata": {},
     "output_type": "execute_result"
    }
   ],
   "source": [
    "test_data = pd.read_csv(r\"C:\\Users\\User\\Downloads\\test_data.csv\")\n",
    "test_data.head()"
   ]
  },
  {
   "cell_type": "code",
   "execution_count": 25,
   "id": "9ef00104",
   "metadata": {},
   "outputs": [
    {
     "name": "stdout",
     "output_type": "stream",
     "text": [
      "Test data Info\n",
      "---------------------------------------------------------------------------\n",
      "<class 'pandas.core.frame.DataFrame'>\n",
      "RangeIndex: 5000 entries, 0 to 4999\n",
      "Data columns (total 11 columns):\n",
      " #   Column            Non-Null Count  Dtype  \n",
      "---  ------            --------------  -----  \n",
      " 0   id                5000 non-null   int64  \n",
      " 1   airline           5000 non-null   object \n",
      " 2   flight            5000 non-null   object \n",
      " 3   source_city       5000 non-null   object \n",
      " 4   departure_time    5000 non-null   object \n",
      " 5   stops             5000 non-null   object \n",
      " 6   arrival_time      5000 non-null   object \n",
      " 7   destination_city  5000 non-null   object \n",
      " 8   class             5000 non-null   object \n",
      " 9   duration          5000 non-null   float64\n",
      " 10  days_left         5000 non-null   int64  \n",
      "dtypes: float64(1), int64(2), object(8)\n",
      "memory usage: 429.8+ KB\n",
      "None\n",
      "\n",
      "\n",
      "Null values :\n",
      "---------------------------------------------------------------------------\n",
      "id                  0\n",
      "airline             0\n",
      "flight              0\n",
      "source_city         0\n",
      "departure_time      0\n",
      "stops               0\n",
      "arrival_time        0\n",
      "destination_city    0\n",
      "class               0\n",
      "duration            0\n",
      "days_left           0\n",
      "dtype: int64\n",
      "airline\n",
      "---------------------------------------------------------------------------\n",
      "Vistara      2064\n",
      "Air_India    1398\n",
      "Indigo        724\n",
      "GO_FIRST      393\n",
      "AirAsia       263\n",
      "SpiceJet      158\n",
      "Name: airline, dtype: int64\n",
      "\n",
      "source_city\n",
      "---------------------------------------------------------------------------\n",
      "Mumbai       1018\n",
      "Delhi        1002\n",
      "Bangalore     887\n",
      "Kolkata       781\n",
      "Hyderabad     676\n",
      "Chennai       636\n",
      "Name: source_city, dtype: int64\n",
      "\n",
      "destination_city\n",
      "---------------------------------------------------------------------------\n",
      "Mumbai       949\n",
      "Delhi        934\n",
      "Bangalore    910\n",
      "Kolkata      839\n",
      "Hyderabad    710\n",
      "Chennai      658\n",
      "Name: destination_city, dtype: int64\n",
      "\n",
      "\n",
      "Shape of test data :  (5000, 23)\n"
     ]
    }
   ],
   "source": [
    "print(\"Test data Info\")\n",
    "print(\"-\"*75)\n",
    "print(test_data.info())\n",
    "\n",
    "print()\n",
    "print()\n",
    "\n",
    "print(\"Null values :\")\n",
    "print(\"-\"*75)\n",
    "test_data.dropna(inplace = True)\n",
    "print(test_data.isnull().sum())\n",
    "\n",
    "# Categorical data\n",
    "\n",
    "print(\"airline\")\n",
    "print(\"-\"*75)\n",
    "print(test_data[\"airline\"].value_counts())\n",
    "Airline = pd.get_dummies(test_data[\"airline\"], drop_first= True)\n",
    "\n",
    "print()\n",
    "\n",
    "print(\"source_city\")\n",
    "print(\"-\"*75)\n",
    "print(test_data[\"source_city\"].value_counts())\n",
    "Source = pd.get_dummies(test_data[\"source_city\"], drop_first= True)\n",
    "\n",
    "print()\n",
    "\n",
    "print(\"destination_city\")\n",
    "print(\"-\"*75)\n",
    "print(test_data[\"destination_city\"].value_counts())\n",
    "Destination = pd.get_dummies(test_data[\"destination_city\"], drop_first = True)\n",
    "\n",
    "# Replacing stops\n",
    "test_data.replace({\"non-stop\": 0, \"1 stop\": 1, \"2 stops\": 2, \"3 stops\": 3, \"4 stops\": 4}, inplace = True)\n",
    "\n",
    "# Concatenate dataframe --> test_data + Airline + Source + destination_city\n",
    "data_test = pd.concat([test_data, Airline, Source, Destination], axis = 1)\n",
    "\n",
    "data_test.drop([\"airline\", \"source_city\", \"destination_city\"], axis = 1, inplace = True)\n",
    "\n",
    "print()\n",
    "print()\n",
    "\n",
    "print(\"Shape of test data : \", data_test.shape)"
   ]
  },
  {
   "cell_type": "code",
   "execution_count": 26,
   "id": "e1918cd3",
   "metadata": {},
   "outputs": [
    {
     "data": {
      "text/html": [
       "<div>\n",
       "<style scoped>\n",
       "    .dataframe tbody tr th:only-of-type {\n",
       "        vertical-align: middle;\n",
       "    }\n",
       "\n",
       "    .dataframe tbody tr th {\n",
       "        vertical-align: top;\n",
       "    }\n",
       "\n",
       "    .dataframe thead th {\n",
       "        text-align: right;\n",
       "    }\n",
       "</style>\n",
       "<table border=\"1\" class=\"dataframe\">\n",
       "  <thead>\n",
       "    <tr style=\"text-align: right;\">\n",
       "      <th></th>\n",
       "      <th>id</th>\n",
       "      <th>flight</th>\n",
       "      <th>departure_time</th>\n",
       "      <th>stops</th>\n",
       "      <th>arrival_time</th>\n",
       "      <th>class</th>\n",
       "      <th>duration</th>\n",
       "      <th>days_left</th>\n",
       "      <th>Air_India</th>\n",
       "      <th>GO_FIRST</th>\n",
       "      <th>...</th>\n",
       "      <th>Chennai</th>\n",
       "      <th>Delhi</th>\n",
       "      <th>Hyderabad</th>\n",
       "      <th>Kolkata</th>\n",
       "      <th>Mumbai</th>\n",
       "      <th>Chennai</th>\n",
       "      <th>Delhi</th>\n",
       "      <th>Hyderabad</th>\n",
       "      <th>Kolkata</th>\n",
       "      <th>Mumbai</th>\n",
       "    </tr>\n",
       "  </thead>\n",
       "  <tbody>\n",
       "    <tr>\n",
       "      <th>0</th>\n",
       "      <td>1</td>\n",
       "      <td>AI-765</td>\n",
       "      <td>Evening</td>\n",
       "      <td>one</td>\n",
       "      <td>Night</td>\n",
       "      <td>Business</td>\n",
       "      <td>28.25</td>\n",
       "      <td>2</td>\n",
       "      <td>1</td>\n",
       "      <td>0</td>\n",
       "      <td>...</td>\n",
       "      <td>0</td>\n",
       "      <td>0</td>\n",
       "      <td>0</td>\n",
       "      <td>1</td>\n",
       "      <td>0</td>\n",
       "      <td>0</td>\n",
       "      <td>1</td>\n",
       "      <td>0</td>\n",
       "      <td>0</td>\n",
       "      <td>0</td>\n",
       "    </tr>\n",
       "    <tr>\n",
       "      <th>1</th>\n",
       "      <td>2</td>\n",
       "      <td>UK-747</td>\n",
       "      <td>Early_Morning</td>\n",
       "      <td>one</td>\n",
       "      <td>Night</td>\n",
       "      <td>Business</td>\n",
       "      <td>13.83</td>\n",
       "      <td>34</td>\n",
       "      <td>0</td>\n",
       "      <td>0</td>\n",
       "      <td>...</td>\n",
       "      <td>0</td>\n",
       "      <td>1</td>\n",
       "      <td>0</td>\n",
       "      <td>0</td>\n",
       "      <td>0</td>\n",
       "      <td>0</td>\n",
       "      <td>0</td>\n",
       "      <td>0</td>\n",
       "      <td>0</td>\n",
       "      <td>1</td>\n",
       "    </tr>\n",
       "    <tr>\n",
       "      <th>2</th>\n",
       "      <td>3</td>\n",
       "      <td>AI-570</td>\n",
       "      <td>Early_Morning</td>\n",
       "      <td>zero</td>\n",
       "      <td>Early_Morning</td>\n",
       "      <td>Business</td>\n",
       "      <td>2.00</td>\n",
       "      <td>30</td>\n",
       "      <td>1</td>\n",
       "      <td>0</td>\n",
       "      <td>...</td>\n",
       "      <td>0</td>\n",
       "      <td>0</td>\n",
       "      <td>0</td>\n",
       "      <td>0</td>\n",
       "      <td>1</td>\n",
       "      <td>1</td>\n",
       "      <td>0</td>\n",
       "      <td>0</td>\n",
       "      <td>0</td>\n",
       "      <td>0</td>\n",
       "    </tr>\n",
       "    <tr>\n",
       "      <th>3</th>\n",
       "      <td>4</td>\n",
       "      <td>I5-974</td>\n",
       "      <td>Night</td>\n",
       "      <td>one</td>\n",
       "      <td>Late_Night</td>\n",
       "      <td>Economy</td>\n",
       "      <td>5.17</td>\n",
       "      <td>26</td>\n",
       "      <td>0</td>\n",
       "      <td>0</td>\n",
       "      <td>...</td>\n",
       "      <td>0</td>\n",
       "      <td>0</td>\n",
       "      <td>1</td>\n",
       "      <td>0</td>\n",
       "      <td>0</td>\n",
       "      <td>0</td>\n",
       "      <td>1</td>\n",
       "      <td>0</td>\n",
       "      <td>0</td>\n",
       "      <td>0</td>\n",
       "    </tr>\n",
       "    <tr>\n",
       "      <th>4</th>\n",
       "      <td>5</td>\n",
       "      <td>AI-770</td>\n",
       "      <td>Night</td>\n",
       "      <td>one</td>\n",
       "      <td>Afternoon</td>\n",
       "      <td>Economy</td>\n",
       "      <td>16.33</td>\n",
       "      <td>35</td>\n",
       "      <td>1</td>\n",
       "      <td>0</td>\n",
       "      <td>...</td>\n",
       "      <td>0</td>\n",
       "      <td>0</td>\n",
       "      <td>0</td>\n",
       "      <td>1</td>\n",
       "      <td>0</td>\n",
       "      <td>0</td>\n",
       "      <td>0</td>\n",
       "      <td>0</td>\n",
       "      <td>0</td>\n",
       "      <td>1</td>\n",
       "    </tr>\n",
       "  </tbody>\n",
       "</table>\n",
       "<p>5 rows × 23 columns</p>\n",
       "</div>"
      ],
      "text/plain": [
       "   id  flight departure_time stops   arrival_time     class  duration  \\\n",
       "0   1  AI-765        Evening   one          Night  Business     28.25   \n",
       "1   2  UK-747  Early_Morning   one          Night  Business     13.83   \n",
       "2   3  AI-570  Early_Morning  zero  Early_Morning  Business      2.00   \n",
       "3   4  I5-974          Night   one     Late_Night   Economy      5.17   \n",
       "4   5  AI-770          Night   one      Afternoon   Economy     16.33   \n",
       "\n",
       "   days_left  Air_India  GO_FIRST  ...  Chennai  Delhi  Hyderabad  Kolkata  \\\n",
       "0          2          1         0  ...        0      0          0        1   \n",
       "1         34          0         0  ...        0      1          0        0   \n",
       "2         30          1         0  ...        0      0          0        0   \n",
       "3         26          0         0  ...        0      0          1        0   \n",
       "4         35          1         0  ...        0      0          0        1   \n",
       "\n",
       "   Mumbai  Chennai  Delhi  Hyderabad  Kolkata  Mumbai  \n",
       "0       0        0      1          0        0       0  \n",
       "1       0        0      0          0        0       1  \n",
       "2       1        1      0          0        0       0  \n",
       "3       0        0      1          0        0       0  \n",
       "4       0        0      0          0        0       1  \n",
       "\n",
       "[5 rows x 23 columns]"
      ]
     },
     "execution_count": 26,
     "metadata": {},
     "output_type": "execute_result"
    }
   ],
   "source": [
    "data_test.head()"
   ]
  },
  {
   "cell_type": "code",
   "execution_count": 27,
   "id": "515aa069",
   "metadata": {},
   "outputs": [
    {
     "data": {
      "text/plain": [
       "(20000, 27)"
      ]
     },
     "execution_count": 27,
     "metadata": {},
     "output_type": "execute_result"
    }
   ],
   "source": [
    "data_train.shape"
   ]
  },
  {
   "cell_type": "code",
   "execution_count": 28,
   "id": "f0c67457",
   "metadata": {},
   "outputs": [
    {
     "data": {
      "text/plain": [
       "Index(['id', 'airline', 'flight', 'source_city', 'departure_time', 'stops',\n",
       "       'arrival_time', 'destination_city', 'class', 'duration', 'days_left',\n",
       "       'price', 'airline_Air_India', 'airline_GO_FIRST', 'airline_Indigo',\n",
       "       'airline_SpiceJet', 'airline_Vistara', 'source_city_Chennai',\n",
       "       'source_city_Delhi', 'source_city_Hyderabad', 'source_city_Kolkata',\n",
       "       'source_city_Mumbai', 'destination_city_Chennai',\n",
       "       'destination_city_Delhi', 'destination_city_Hyderabad',\n",
       "       'destination_city_Kolkata', 'destination_city_Mumbai'],\n",
       "      dtype='object')"
      ]
     },
     "execution_count": 28,
     "metadata": {},
     "output_type": "execute_result"
    }
   ],
   "source": [
    "data_train.columns"
   ]
  },
  {
   "cell_type": "code",
   "execution_count": 29,
   "id": "ce4f2a9d",
   "metadata": {},
   "outputs": [
    {
     "data": {
      "text/html": [
       "<div>\n",
       "<style scoped>\n",
       "    .dataframe tbody tr th:only-of-type {\n",
       "        vertical-align: middle;\n",
       "    }\n",
       "\n",
       "    .dataframe tbody tr th {\n",
       "        vertical-align: top;\n",
       "    }\n",
       "\n",
       "    .dataframe thead th {\n",
       "        text-align: right;\n",
       "    }\n",
       "</style>\n",
       "<table border=\"1\" class=\"dataframe\">\n",
       "  <thead>\n",
       "    <tr style=\"text-align: right;\">\n",
       "      <th></th>\n",
       "      <th>id</th>\n",
       "      <th>airline</th>\n",
       "      <th>flight</th>\n",
       "      <th>source_city</th>\n",
       "      <th>departure_time</th>\n",
       "      <th>stops</th>\n",
       "      <th>arrival_time</th>\n",
       "      <th>destination_city</th>\n",
       "      <th>class</th>\n",
       "      <th>duration</th>\n",
       "      <th>...</th>\n",
       "      <th>source_city_Chennai</th>\n",
       "      <th>source_city_Delhi</th>\n",
       "      <th>source_city_Hyderabad</th>\n",
       "      <th>source_city_Kolkata</th>\n",
       "      <th>source_city_Mumbai</th>\n",
       "      <th>destination_city_Chennai</th>\n",
       "      <th>destination_city_Delhi</th>\n",
       "      <th>destination_city_Hyderabad</th>\n",
       "      <th>destination_city_Kolkata</th>\n",
       "      <th>destination_city_Mumbai</th>\n",
       "    </tr>\n",
       "  </thead>\n",
       "  <tbody>\n",
       "    <tr>\n",
       "      <th>0</th>\n",
       "      <td>1</td>\n",
       "      <td>Vistara</td>\n",
       "      <td>UK-810</td>\n",
       "      <td>Bangalore</td>\n",
       "      <td>Early_Morning</td>\n",
       "      <td>one</td>\n",
       "      <td>Night</td>\n",
       "      <td>Mumbai</td>\n",
       "      <td>Economy</td>\n",
       "      <td>14.25</td>\n",
       "      <td>...</td>\n",
       "      <td>0</td>\n",
       "      <td>0</td>\n",
       "      <td>0</td>\n",
       "      <td>0</td>\n",
       "      <td>0</td>\n",
       "      <td>0</td>\n",
       "      <td>0</td>\n",
       "      <td>0</td>\n",
       "      <td>0</td>\n",
       "      <td>1</td>\n",
       "    </tr>\n",
       "    <tr>\n",
       "      <th>1</th>\n",
       "      <td>2</td>\n",
       "      <td>SpiceJet</td>\n",
       "      <td>SG-5094</td>\n",
       "      <td>Hyderabad</td>\n",
       "      <td>Evening</td>\n",
       "      <td>zero</td>\n",
       "      <td>Night</td>\n",
       "      <td>Kolkata</td>\n",
       "      <td>Economy</td>\n",
       "      <td>1.75</td>\n",
       "      <td>...</td>\n",
       "      <td>0</td>\n",
       "      <td>0</td>\n",
       "      <td>1</td>\n",
       "      <td>0</td>\n",
       "      <td>0</td>\n",
       "      <td>0</td>\n",
       "      <td>0</td>\n",
       "      <td>0</td>\n",
       "      <td>1</td>\n",
       "      <td>0</td>\n",
       "    </tr>\n",
       "    <tr>\n",
       "      <th>2</th>\n",
       "      <td>3</td>\n",
       "      <td>Vistara</td>\n",
       "      <td>UK-846</td>\n",
       "      <td>Bangalore</td>\n",
       "      <td>Morning</td>\n",
       "      <td>one</td>\n",
       "      <td>Evening</td>\n",
       "      <td>Delhi</td>\n",
       "      <td>Business</td>\n",
       "      <td>9.58</td>\n",
       "      <td>...</td>\n",
       "      <td>0</td>\n",
       "      <td>0</td>\n",
       "      <td>0</td>\n",
       "      <td>0</td>\n",
       "      <td>0</td>\n",
       "      <td>0</td>\n",
       "      <td>1</td>\n",
       "      <td>0</td>\n",
       "      <td>0</td>\n",
       "      <td>0</td>\n",
       "    </tr>\n",
       "    <tr>\n",
       "      <th>3</th>\n",
       "      <td>4</td>\n",
       "      <td>Vistara</td>\n",
       "      <td>UK-706</td>\n",
       "      <td>Kolkata</td>\n",
       "      <td>Morning</td>\n",
       "      <td>one</td>\n",
       "      <td>Evening</td>\n",
       "      <td>Hyderabad</td>\n",
       "      <td>Economy</td>\n",
       "      <td>6.75</td>\n",
       "      <td>...</td>\n",
       "      <td>0</td>\n",
       "      <td>0</td>\n",
       "      <td>0</td>\n",
       "      <td>1</td>\n",
       "      <td>0</td>\n",
       "      <td>0</td>\n",
       "      <td>0</td>\n",
       "      <td>1</td>\n",
       "      <td>0</td>\n",
       "      <td>0</td>\n",
       "    </tr>\n",
       "    <tr>\n",
       "      <th>4</th>\n",
       "      <td>5</td>\n",
       "      <td>Indigo</td>\n",
       "      <td>6E-5394</td>\n",
       "      <td>Chennai</td>\n",
       "      <td>Early_Morning</td>\n",
       "      <td>zero</td>\n",
       "      <td>Morning</td>\n",
       "      <td>Mumbai</td>\n",
       "      <td>Economy</td>\n",
       "      <td>2.00</td>\n",
       "      <td>...</td>\n",
       "      <td>1</td>\n",
       "      <td>0</td>\n",
       "      <td>0</td>\n",
       "      <td>0</td>\n",
       "      <td>0</td>\n",
       "      <td>0</td>\n",
       "      <td>0</td>\n",
       "      <td>0</td>\n",
       "      <td>0</td>\n",
       "      <td>1</td>\n",
       "    </tr>\n",
       "  </tbody>\n",
       "</table>\n",
       "<p>5 rows × 27 columns</p>\n",
       "</div>"
      ],
      "text/plain": [
       "   id   airline   flight source_city departure_time stops arrival_time  \\\n",
       "0   1   Vistara   UK-810   Bangalore  Early_Morning   one        Night   \n",
       "1   2  SpiceJet  SG-5094   Hyderabad        Evening  zero        Night   \n",
       "2   3   Vistara   UK-846   Bangalore        Morning   one      Evening   \n",
       "3   4   Vistara   UK-706     Kolkata        Morning   one      Evening   \n",
       "4   5    Indigo  6E-5394     Chennai  Early_Morning  zero      Morning   \n",
       "\n",
       "  destination_city     class  duration  ...  source_city_Chennai  \\\n",
       "0           Mumbai   Economy     14.25  ...                    0   \n",
       "1          Kolkata   Economy      1.75  ...                    0   \n",
       "2            Delhi  Business      9.58  ...                    0   \n",
       "3        Hyderabad   Economy      6.75  ...                    0   \n",
       "4           Mumbai   Economy      2.00  ...                    1   \n",
       "\n",
       "   source_city_Delhi  source_city_Hyderabad  source_city_Kolkata  \\\n",
       "0                  0                      0                    0   \n",
       "1                  0                      1                    0   \n",
       "2                  0                      0                    0   \n",
       "3                  0                      0                    1   \n",
       "4                  0                      0                    0   \n",
       "\n",
       "   source_city_Mumbai  destination_city_Chennai  destination_city_Delhi  \\\n",
       "0                   0                         0                       0   \n",
       "1                   0                         0                       0   \n",
       "2                   0                         0                       1   \n",
       "3                   0                         0                       0   \n",
       "4                   0                         0                       0   \n",
       "\n",
       "   destination_city_Hyderabad  destination_city_Kolkata  \\\n",
       "0                           0                         0   \n",
       "1                           0                         1   \n",
       "2                           0                         0   \n",
       "3                           1                         0   \n",
       "4                           0                         0   \n",
       "\n",
       "   destination_city_Mumbai  \n",
       "0                        1  \n",
       "1                        0  \n",
       "2                        0  \n",
       "3                        0  \n",
       "4                        1  \n",
       "\n",
       "[5 rows x 27 columns]"
      ]
     },
     "execution_count": 29,
     "metadata": {},
     "output_type": "execute_result"
    }
   ],
   "source": [
    "X = data_train.loc[:, ['id', 'airline', 'flight', 'source_city', 'departure_time', 'stops',\n",
    "       'arrival_time', 'destination_city', 'class', 'duration', 'days_left',\n",
    "       'price', 'airline_Air_India', 'airline_GO_FIRST', 'airline_Indigo',\n",
    "       'airline_SpiceJet', 'airline_Vistara', 'source_city_Chennai',\n",
    "       'source_city_Delhi', 'source_city_Hyderabad', 'source_city_Kolkata',\n",
    "       'source_city_Mumbai', 'destination_city_Chennai',\n",
    "       'destination_city_Delhi', 'destination_city_Hyderabad',\n",
    "       'destination_city_Kolkata', 'destination_city_Mumbai']]\n",
    "\n",
    "X.head()"
   ]
  },
  {
   "cell_type": "code",
   "execution_count": 30,
   "id": "e184edf4",
   "metadata": {},
   "outputs": [
    {
     "data": {
      "text/plain": [
       "0     Vistara\n",
       "1    SpiceJet\n",
       "2     Vistara\n",
       "3     Vistara\n",
       "4      Indigo\n",
       "Name: airline, dtype: object"
      ]
     },
     "execution_count": 30,
     "metadata": {},
     "output_type": "execute_result"
    }
   ],
   "source": [
    "y = data_train.iloc[:, 1]\n",
    "y.head()"
   ]
  },
  {
   "cell_type": "code",
   "execution_count": 31,
   "id": "b06bd313",
   "metadata": {},
   "outputs": [
    {
     "data": {
      "image/png": "[encoded data removed]",
      "text/plain": [
       "<Figure size 1296x1296 with 2 Axes>"
      ]
     },
     "metadata": {},
     "output_type": "display_data"
    }
   ],
   "source": [
    "plt.figure(figsize = (18,18))\n",
    "sns.heatmap(train_data.corr(), annot = True, cmap = \"RdYlGn\")\n",
    "\n",
    "plt.show()"
   ]
  },
  {
   "cell_type": "code",
   "execution_count": 32,
   "id": "e10dc5dc",
   "metadata": {},
   "outputs": [],
   "source": [
    "from sklearn.model_selection import train_test_split\n",
    "X_train, X_test, y_train, y_test = train_test_split(X, y, test_size = 0.2, random_state = 42)"
   ]
  },
  {
   "cell_type": "code",
   "execution_count": 33,
   "id": "113bc511",
   "metadata": {},
   "outputs": [
    {
     "data": {
      "text/plain": [
       "ExtraTreesClassifier(random_state=0)"
      ]
     },
     "execution_count": 33,
     "metadata": {},
     "output_type": "execute_result"
    }
   ],
   "source": [
    "from sklearn.ensemble import ExtraTreesClassifier\n",
    "from sklearn.datasets import make_classification\n",
    "X, y = make_classification(n_features=4, random_state=0)\n",
    "clf = ExtraTreesClassifier(n_estimators=100, random_state=0)\n",
    "clf.fit(X, y)"
   ]
  },
  {
   "cell_type": "code",
   "execution_count": 34,
   "id": "575ba5ea",
   "metadata": {},
   "outputs": [
    {
     "name": "stdout",
     "output_type": "stream",
     "text": [
      "[0.09408348 0.27497025 0.45581085 0.17513543]\n"
     ]
    }
   ],
   "source": [
    "print(clf.feature_importances_)"
   ]
  },
  {
   "cell_type": "code",
   "execution_count": 35,
   "id": "e2b5f208",
   "metadata": {},
   "outputs": [
    {
     "data": {
      "image/png": "[encoded data removed]",
      "text/plain": [
       "<Figure size 864x576 with 1 Axes>"
      ]
     },
     "metadata": {},
     "output_type": "display_data"
    }
   ],
   "source": [
    "plt.figure(figsize = (12,8))\n",
    "feat_importances = pd.Series(clf.feature_importances_)#I could not find proper approach to columns \n",
    "feat_importances.nlargest(20).plot(kind='barh')\n",
    "plt.show()"
   ]
  },
  {
   "cell_type": "code",
   "execution_count": 36,
   "id": "7084bda1",
   "metadata": {},
   "outputs": [],
   "source": [
    "from sklearn.model_selection import train_test_split\n",
    "X_train, X_test, y_train, y_test = train_test_split(X, y, test_size = 0.2, random_state = 42)"
   ]
  },
  {
   "cell_type": "code",
   "execution_count": 37,
   "id": "0777bcd1",
   "metadata": {},
   "outputs": [
    {
     "data": {
      "text/plain": [
       "RandomForestRegressor()"
      ]
     },
     "execution_count": 37,
     "metadata": {},
     "output_type": "execute_result"
    }
   ],
   "source": [
    "from sklearn.ensemble import RandomForestRegressor\n",
    "reg_rf = RandomForestRegressor()\n",
    "reg_rf.fit(X_train, y_train)"
   ]
  },
  {
   "cell_type": "code",
   "execution_count": 38,
   "id": "af22fc7f",
   "metadata": {},
   "outputs": [],
   "source": [
    "y_pred = reg_rf.predict(X_test)"
   ]
  },
  {
   "cell_type": "code",
   "execution_count": 39,
   "id": "c35042cf",
   "metadata": {},
   "outputs": [
    {
     "data": {
      "text/plain": [
       "0.9521951219512195"
      ]
     },
     "execution_count": 39,
     "metadata": {},
     "output_type": "execute_result"
    }
   ],
   "source": [
    "reg_rf.score(X_train, y_train)"
   ]
  },
  {
   "cell_type": "code",
   "execution_count": 40,
   "id": "6e46e3b3",
   "metadata": {},
   "outputs": [
    {
     "data": {
      "text/plain": [
       "0.7779999999999999"
      ]
     },
     "execution_count": 40,
     "metadata": {},
     "output_type": "execute_result"
    }
   ],
   "source": [
    "reg_rf.score(X_test, y_test)"
   ]
  },
  {
   "cell_type": "code",
   "execution_count": 41,
   "id": "2a63fe2f",
   "metadata": {},
   "outputs": [
    {
     "name": "stderr",
     "output_type": "stream",
     "text": [
      "C:\\Users\\User\\anaconda3\\lib\\site-packages\\seaborn\\distributions.py:2619: FutureWarning: `distplot` is a deprecated function and will be removed in a future version. Please adapt your code to use either `displot` (a figure-level function with similar flexibility) or `histplot` (an axes-level function for histograms).\n",
      "  warnings.warn(msg, FutureWarning)\n"
     ]
    },
    {
     "data": {
      "image/png": "[encoded data removed]",
      "text/plain": [
       "<Figure size 432x288 with 1 Axes>"
      ]
     },
     "metadata": {},
     "output_type": "display_data"
    }
   ],
   "source": [
    "sns.distplot(y_test-y_pred)\n",
    "plt.show()"
   ]
  },
  {
   "cell_type": "code",
   "execution_count": 42,
   "id": "9e513699",
   "metadata": {},
   "outputs": [
    {
     "data": {
      "image/png": "[encoded data removed]",
      "text/plain": [
       "<Figure size 432x288 with 1 Axes>"
      ]
     },
     "metadata": {},
     "output_type": "display_data"
    }
   ],
   "source": [
    "plt.scatter(y_test, y_pred, alpha = 0.5)\n",
    "plt.xlabel(\"y_test\")\n",
    "plt.ylabel(\"y_pred\")\n",
    "plt.show()"
   ]
  },
  {
   "cell_type": "code",
   "execution_count": 43,
   "id": "8efb15c8",
   "metadata": {},
   "outputs": [],
   "source": [
    "from sklearn import metrics"
   ]
  },
  {
   "cell_type": "code",
   "execution_count": 44,
   "id": "84088ea1",
   "metadata": {},
   "outputs": [
    {
     "name": "stdout",
     "output_type": "stream",
     "text": [
      "MAE: 0.0855\n",
      "MSE: 0.05494500000000001\n",
      "RMSE: 0.2344034982674107\n"
     ]
    }
   ],
   "source": [
    "print('MAE:', metrics.mean_absolute_error(y_test, y_pred))\n",
    "print('MSE:', metrics.mean_squared_error(y_test, y_pred))\n",
    "print('RMSE:', np.sqrt(metrics.mean_squared_error(y_test, y_pred)))"
   ]
  },
  {
   "cell_type": "code",
   "execution_count": 45,
   "id": "a44774fc",
   "metadata": {},
   "outputs": [
    {
     "data": {
      "text/plain": [
       "0.7779999999999999"
      ]
     },
     "execution_count": 45,
     "metadata": {},
     "output_type": "execute_result"
    }
   ],
   "source": [
    "metrics.r2_score(y_test, y_pred)"
   ]
  }
 ],
 "metadata": {
  "kernelspec": {
   "display_name": "Python 3 (ipykernel)",
   "language": "python",
   "name": "python3"
  },
  "language_info": {
   "codemirror_mode": {
    "name": "ipython",
    "version": 3
   },
   "file_extension": ".py",
   "mimetype": "text/x-python",
   "name": "python",
   "nbconvert_exporter": "python",
   "pygments_lexer": "ipython3",
   "version": "3.9.7"
  }
 },
 "nbformat": 4,
 "nbformat_minor": 5
}
